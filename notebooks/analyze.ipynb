{
 "cells": [
  {
   "cell_type": "code",
   "execution_count": 18,
   "metadata": {},
   "outputs": [],
   "source": [
    "from gensim.models import Word2Vec, KeyedVectors\n",
    "import pandas as pd"
   ]
  },
  {
   "cell_type": "code",
   "execution_count": 51,
   "metadata": {},
   "outputs": [],
   "source": [
    "model = KeyedVectors.load_word2vec_format(\"../vscode.emb\")\n",
    "node_data = pd.read_csv(\"../../../node_ids.txt\")\n",
    "\n",
    "def get_similar_nodes(node_name):\n",
    "  similar_nodes_to_adhoc_node = model.similar_by_word(node_name, topn=5)\n",
    "  node_data\n",
    "\n",
    "  print(\"対象node: {0}\\n\".format(node_data[node_data['id'] == int(node_name)].loc[int(node_name)].iloc[-1]))\n",
    "  for node in similar_nodes_to_adhoc_node:\n",
    "    print(node[0])\n",
    "    similar = node_data[node_data['id'] == int(node[0])].loc[int(node[0])].iloc[-1]\n",
    "    print(similar)\n",
    "    print(\"\\n\")"
   ]
  },
  {
   "cell_type": "code",
   "execution_count": 57,
   "metadata": {},
   "outputs": [
    {
     "name": "stdout",
     "output_type": "stream",
     "text": [
      "対象node: vs/base/common/lifecycle\n",
      "\n",
      "2881\n",
      "vs/workbench/contrib/welcomeViews/common/viewsWelcomeExtensionPoint\n",
      "\n",
      "\n",
      "2113\n",
      "vs/workbench/services/configurationResolver/common/configurationResolverUtils\n",
      "\n",
      "\n",
      "604\n",
      "vs/platform/actions/common/actions\n",
      "\n",
      "\n",
      "1286\n",
      "vs/platform/quickinput/browser/quickPickPin\n",
      "\n",
      "\n",
      "2187\n",
      "vs/workbench/contrib/extensions/common/extensionsFileTemplate\n",
      "\n",
      "\n"
     ]
    }
   ],
   "source": [
    "get_similar_nodes(3)"
   ]
  },
  {
   "cell_type": "code",
   "execution_count": null,
   "metadata": {},
   "outputs": [],
   "source": []
  }
 ],
 "metadata": {
  "kernelspec": {
   "display_name": "Python 3.8.10 64-bit",
   "language": "python",
   "name": "python3"
  },
  "language_info": {
   "codemirror_mode": {
    "name": "ipython",
    "version": 3
   },
   "file_extension": ".py",
   "mimetype": "text/x-python",
   "name": "python",
   "nbconvert_exporter": "python",
   "pygments_lexer": "ipython3",
   "version": "3.8.10"
  },
  "orig_nbformat": 4,
  "vscode": {
   "interpreter": {
    "hash": "31f2aee4e71d21fbe5cf8b01ff0e069b9275f58929596ceb00d14d90e3e16cd6"
   }
  }
 },
 "nbformat": 4,
 "nbformat_minor": 2
}
